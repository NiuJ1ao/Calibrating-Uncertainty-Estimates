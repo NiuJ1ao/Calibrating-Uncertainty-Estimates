{
 "cells": [
  {
   "cell_type": "markdown",
   "metadata": {},
   "source": [
    "# Single model regression"
   ]
  },
  {
   "cell_type": "code",
   "execution_count": 75,
   "metadata": {},
   "outputs": [],
   "source": [
    "import os\n",
    "import numpy as np\n",
    "import matplotlib.pyplot as plt\n",
    "import torch\n",
    "from regressor import MLP, QuantileMLP\n",
    "import glob\n",
    "from util import UCI\n",
    "%matplotlib inline\n",
    "plt.style.use('ggplot')\n",
    "\n",
    "model_dir = \"/mnt/e/models/iso_models\"\n",
    "device = torch.device(f\"cuda:0\" if torch.cuda.is_available() else \"cpu\")"
   ]
  },
  {
   "cell_type": "code",
   "execution_count": 76,
   "metadata": {},
   "outputs": [],
   "source": [
    "\n",
    "def plot_solar_regression(fname, model, train_data, test_data, X, y, uncali, conformal):\n",
    "    plt.scatter(train_data[:,0], train_data[:,1], c='b', label='train')\n",
    "    plt.scatter(test_data[:,0], test_data[:,1], c='r', label='test')\n",
    "    label = \"mean\" if model==\"mlp\" else \"median\"\n",
    "    plt.plot(X, y, c='g', label=label)\n",
    "    plt.fill_between(X, uncali[0], uncali[1], color=\"orange\", label='uncali.', alpha=0.3)\n",
    "    plt.fill_between(X, conformal[0], conformal[1], color=\"blue\", label='conformal', alpha=0.4)\n",
    "    plt.xlim(-230, 230)\n",
    "    plt.ylim(-3, 3)\n",
    "    plt.legend()\n",
    "    # plt.show()\n",
    "    plt.savefig(f\"figures/regression/{fname}.pdf\")\n",
    "    \n",
    "def predict(model, inputs, device):\n",
    "    model.eval()\n",
    "    model = model.to(device)\n",
    "\n",
    "    with torch.no_grad():\n",
    "        inputs = inputs.to(device)\n",
    "        outputs = model(inputs)\n",
    "    \n",
    "    return outputs\n",
    "\n",
    "def correct_coverage(refs, lower, upper):\n",
    "    less_than_upper = refs <= upper\n",
    "    ref_upper = refs[less_than_upper]\n",
    "    sub_lower = lower[less_than_upper]\n",
    "    in_range = ref_upper[ref_upper >= sub_lower]\n",
    "    return len(in_range)/len(refs)\n",
    "\n",
    "def correct_coverage1(scores, qhat):\n",
    "    return (scores <= qhat).mean()\n",
    "\n",
    "def get_qhat(scores, quantile=0.95):\n",
    "    n = len(scores)\n",
    "    # print(scores, np.ceil((n+1)*quantile)/n)\n",
    "    return np.quantile(scores, np.ceil((n+1)*quantile)/n)\n",
    "\n",
    "def rmse(predictions, references):\n",
    "    return np.linalg.norm(predictions - references) / np.sqrt(len(references))"
   ]
  },
  {
   "cell_type": "code",
   "execution_count": 77,
   "metadata": {},
   "outputs": [],
   "source": [
    "def mlp_score_function(mus, sigmas, refs):\n",
    "    # project distance from y onto uncertainties\n",
    "    scores = np.abs(mus - refs) / sigmas\n",
    "    return scores\n",
    "\n",
    "def quantile_score_function(lower, upper, refs):\n",
    "    # project distance from y onto uncertainties\n",
    "    dists = np.vstack((lower - refs, refs - upper))\n",
    "    return np.max(dists, axis=0)"
   ]
  },
  {
   "cell_type": "code",
   "execution_count": 78,
   "metadata": {},
   "outputs": [],
   "source": [
    "def mlp_predict(model_paths, model, inputs, device):\n",
    "    print(f\"Loading model from {model_paths}\")\n",
    "    for path in glob.iglob(model_paths):\n",
    "        model.load_state_dict(torch.load(path, map_location=device))\n",
    "        \n",
    "        mu, log_sigma2 = predict(model, inputs, device)\n",
    "        sigma = torch.sqrt(torch.exp(log_sigma2))\n",
    "    \n",
    "    mu = mu.detach().cpu().numpy()\n",
    "    sigma = sigma.detach().cpu().numpy()\n",
    "    if mu.shape[-1] == 1:\n",
    "        mu = mu.reshape(-1)\n",
    "    if sigma.shape[-1] == 1:\n",
    "        sigma = sigma.reshape(-1)\n",
    "    return mu, sigma"
   ]
  },
  {
   "cell_type": "markdown",
   "metadata": {},
   "source": [
    "## Solar"
   ]
  },
  {
   "cell_type": "code",
   "execution_count": 79,
   "metadata": {},
   "outputs": [
    {
     "data": {
      "text/plain": [
       "((203, 2), (88, 2), (100, 2))"
      ]
     },
     "execution_count": 79,
     "metadata": {},
     "output_type": "execute_result"
    }
   ],
   "source": [
    "train_data = np.load(\"/mnt/e/data/solar/train.npy\")\n",
    "val_data = np.load(\"/mnt/e/data/solar/val.npy\")\n",
    "test_data = np.load(\"/mnt/e/data/solar/test.npy\")\n",
    "\n",
    "train_data.shape, val_data.shape, test_data.shape"
   ]
  },
  {
   "cell_type": "code",
   "execution_count": 80,
   "metadata": {},
   "outputs": [
    {
     "name": "stdout",
     "output_type": "stream",
     "text": [
      "MLP(\n",
      "  (layers): Sequential(\n",
      "    (0): Linear(in_features=1, out_features=40, bias=True)\n",
      "    (1): ReLU(inplace=True)\n",
      "    (2): Dropout(p=0.01, inplace=False)\n",
      "    (3): Linear(in_features=40, out_features=40, bias=True)\n",
      "    (4): ReLU(inplace=True)\n",
      "    (5): Dropout(p=0.01, inplace=False)\n",
      "    (6): Linear(in_features=40, out_features=40, bias=True)\n",
      "    (7): ReLU(inplace=True)\n",
      "    (8): Dropout(p=0.01, inplace=False)\n",
      "  )\n",
      "  (mu): Sequential(\n",
      "    (0): Linear(in_features=40, out_features=40, bias=True)\n",
      "    (1): ReLU(inplace=True)\n",
      "    (2): Dropout(p=0.01, inplace=False)\n",
      "    (3): Linear(in_features=40, out_features=1, bias=True)\n",
      "  )\n",
      "  (log_sigma2): Sequential(\n",
      "    (0): Linear(in_features=40, out_features=40, bias=True)\n",
      "    (1): ReLU(inplace=True)\n",
      "    (2): Dropout(p=0.01, inplace=False)\n",
      "    (3): Linear(in_features=40, out_features=1, bias=True)\n",
      "  )\n",
      ")\n",
      "Loading model from /mnt/e/models/iso_models/mlp/mlp_solar_864_*.pt\n"
     ]
    },
    {
     "data": {
      "text/plain": [
       "((4600,), (4600,), (4600,))"
      ]
     },
     "execution_count": 80,
     "metadata": {},
     "output_type": "execute_result"
    }
   ],
   "source": [
    "input_dim = 1\n",
    "output_dim = 1\n",
    "num_units = 40\n",
    "drop_prob = 0.01\n",
    "\n",
    "mlp = MLP(input_dim=input_dim, output_dim=output_dim, num_units=num_units, drop_prob=drop_prob)\n",
    "print(mlp)\n",
    "\n",
    "solar_model_paths = os.path.join(model_dir, \"mlp\", f\"mlp_solar_864_*.pt\")\n",
    "line_X = torch.arange(-230, 230, 0.1, dtype=torch.float, device=device).view(-1, 1)\n",
    "line_mus, line_sigmas = mlp_predict(solar_model_paths, mlp, line_X, device)\n",
    "\n",
    "line_X = line_X.detach().cpu().numpy().reshape(-1)\n",
    "line_X.shape, line_mus.shape, line_sigmas.shape"
   ]
  },
  {
   "cell_type": "code",
   "execution_count": 81,
   "metadata": {},
   "outputs": [],
   "source": [
    "line_upper = line_mus + line_sigmas\n",
    "line_lower = line_mus - line_sigmas\n",
    "plot_train = np.concatenate((train_data, val_data))\n",
    "\n",
    "# plot_solar_regression(\"single/mlp-solar-uncali\", \"mlp\", plot_train, test_data, line_X, line_mus, line_lower, line_upper)"
   ]
  },
  {
   "cell_type": "code",
   "execution_count": 82,
   "metadata": {},
   "outputs": [
    {
     "name": "stdout",
     "output_type": "stream",
     "text": [
      "Loading model from /mnt/e/models/iso_models/mlp/mlp_solar_864_*.pt\n",
      "Loading model from /mnt/e/models/iso_models/mlp/mlp_solar_864_*.pt\n",
      "Uncali. coverage on val set: 0.6590909090909091\n",
      "Uncali. coverage on test set: 0.64\n",
      "qhat: 1.05615094575015\n",
      "Conformal coverage on val set: 0.6931818181818182\n",
      "Conformal coverage on test set: 0.65\n"
     ]
    }
   ],
   "source": [
    "val_X = torch.from_numpy(val_data[:, 0]).float().view(-1, 1)\n",
    "val_Y = val_data[:, 1]\n",
    "val_mus, val_sigmas = mlp_predict(solar_model_paths, mlp, val_X, device)\n",
    "\n",
    "test_X = torch.from_numpy(test_data[:, 0]).float().view(-1, 1)\n",
    "test_Y = test_data[:, 1]\n",
    "test_mus, test_sigmas = mlp_predict(solar_model_paths, mlp, test_X, device)\n",
    "\n",
    "coverage = correct_coverage(val_Y, val_mus-val_sigmas, val_mus+val_sigmas)\n",
    "print(f\"Uncali. coverage on val set: {coverage}\")\n",
    "coverage = correct_coverage(test_Y, test_mus-test_sigmas, test_mus+test_sigmas)\n",
    "print(f\"Uncali. coverage on test set: {coverage}\")\n",
    "\n",
    "scores = mlp_score_function(val_mus, val_sigmas, val_Y)\n",
    "qhat = get_qhat(scores, 0.68)\n",
    "print(f\"qhat: {qhat}\")\n",
    "\n",
    "coverage = correct_coverage(val_Y, val_mus-val_sigmas*qhat, val_mus+val_sigmas*qhat)\n",
    "print(f\"Conformal coverage on val set: {coverage}\")\n",
    "coverage = correct_coverage(test_Y, test_mus-test_sigmas*qhat, test_mus+test_sigmas*qhat)\n",
    "print(f\"Conformal coverage on test set: {coverage}\")"
   ]
  },
  {
   "cell_type": "code",
   "execution_count": 83,
   "metadata": {},
   "outputs": [
    {
     "data": {
      "text/plain": [
       "0.3784844160079956"
      ]
     },
     "execution_count": 83,
     "metadata": {},
     "output_type": "execute_result"
    }
   ],
   "source": [
    "rmse(test_mus, test_Y)"
   ]
  },
  {
   "cell_type": "code",
   "execution_count": 84,
   "metadata": {},
   "outputs": [
    {
     "data": {
      "image/png": "[encoded data removed]",
      "text/plain": [
       "<Figure size 432x288 with 1 Axes>"
      ]
     },
     "metadata": {},
     "output_type": "display_data"
    }
   ],
   "source": [
    "plot_solar_regression(\"single/mlp-solar-conformal\", \"mlp\", plot_train, test_data, line_X, line_mus, (line_mus-line_sigmas, line_mus+line_sigmas), (line_mus-line_sigmas*qhat, line_mus+line_sigmas*qhat))"
   ]
  },
  {
   "cell_type": "markdown",
   "metadata": {},
   "source": [
    "## UCI"
   ]
  },
  {
   "cell_type": "code",
   "execution_count": 304,
   "metadata": {},
   "outputs": [],
   "source": [
    "def UCI_calibration_error(dataset, val_data, test_data, device):\n",
    "    val_X = torch.from_numpy(val_data[:, :-1]).float()\n",
    "    val_y = val_data[:, -1]\n",
    "    test_X = torch.from_numpy(test_data[:, :-1]).float()\n",
    "    test_y = test_data[:, -1]\n",
    "\n",
    "    mlp_paths = os.path.join(model_dir, \"mlp\", f\"mlp_{dataset}_864_*.pt\")\n",
    "    mlp = MLP(input_dim=test_X.shape[1], output_dim=1, num_units=200, drop_prob=0.01)\n",
    "    # print(mlp)\n",
    "\n",
    "    # print(\"### Before calibration ###\")\n",
    "    test_mus, test_sigmas = mlp_predict(mlp_paths, mlp, test_X, device)\n",
    "    uncali_coverage = correct_coverage(test_y, test_mus-test_sigmas, test_mus+test_sigmas)\n",
    "    # print(f\"Coverage: {uncali_coverage}\")\n",
    "    # loss = rmse(test_mus, test_y)\n",
    "    # print(f\"RMSE: {loss}\")\n",
    "    # print()\n",
    "    \n",
    "    # print(\"### Conformal calibrating ###\")\n",
    "    val_mus, val_sigmas = mlp_predict(mlp_paths, mlp, val_X, device)\n",
    "    scores = mlp_score_function(val_mus, val_sigmas, val_y)\n",
    "    qhat = get_qhat(scores, 0.68)\n",
    "    # print(f\"qhat: {qhat}\")\n",
    "    coverage = correct_coverage(test_y, test_mus-test_sigmas*qhat, test_mus+test_sigmas*qhat)\n",
    "    # print(f\"Coverage: {coverage}\")\n",
    "    return uncali_coverage, coverage\n",
    "    \n",
    "def all_calibration_errors():\n",
    "    for dataset in UCI:\n",
    "        val_data = np.load(f\"/mnt/e/data/{dataset}/val.npy\")\n",
    "        test_data = np.load(f\"/mnt/e/data/{dataset}/test.npy\")\n",
    "        uncali, conformal = UCI_calibration_error(dataset, val_data, test_data, device)\n",
    "        print(f\"{dataset}: {uncali:.4f}, {conformal:.4f}\")\n",
    "        print()\n"
   ]
  },
  {
   "cell_type": "code",
   "execution_count": 305,
   "metadata": {},
   "outputs": [
    {
     "name": "stdout",
     "output_type": "stream",
     "text": [
      "Loading model from /mnt/e/models/iso_models/mlp/mlp_house_864_*.pt\n",
      "Loading model from /mnt/e/models/iso_models/mlp/mlp_house_864_*.pt\n",
      "house: 0.5724, 0.6316\n",
      "\n",
      "Loading model from /mnt/e/models/iso_models/mlp/mlp_concrete_864_*.pt\n",
      "Loading model from /mnt/e/models/iso_models/mlp/mlp_concrete_864_*.pt\n",
      "concrete: 0.5534, 0.5825\n",
      "\n",
      "Loading model from /mnt/e/models/iso_models/mlp/mlp_energy_864_*.pt\n",
      "Loading model from /mnt/e/models/iso_models/mlp/mlp_energy_864_*.pt\n",
      "energy: 0.5541, 0.5714\n",
      "\n",
      "Loading model from /mnt/e/models/iso_models/mlp/mlp_power_864_*.pt\n",
      "Loading model from /mnt/e/models/iso_models/mlp/mlp_power_864_*.pt\n",
      "power: 0.7168, 0.7011\n",
      "\n",
      "Loading model from /mnt/e/models/iso_models/mlp/mlp_red_wine_864_*.pt\n",
      "Loading model from /mnt/e/models/iso_models/mlp/mlp_red_wine_864_*.pt\n",
      "red_wine: 0.6750, 0.7375\n",
      "\n",
      "Loading model from /mnt/e/models/iso_models/mlp/mlp_yacht_864_*.pt\n",
      "Loading model from /mnt/e/models/iso_models/mlp/mlp_yacht_864_*.pt\n",
      "yacht: 0.8152, 0.7500\n",
      "\n"
     ]
    }
   ],
   "source": [
    "all_calibration_errors()"
   ]
  },
  {
   "cell_type": "markdown",
   "metadata": {},
   "source": [
    "# Quantile Regression"
   ]
  },
  {
   "cell_type": "code",
   "execution_count": 89,
   "metadata": {},
   "outputs": [],
   "source": [
    "def quantile_predict(model_paths, model, inputs, device):\n",
    "    print(f\"Loading model from {model_paths}\")\n",
    "    for path in glob.iglob(model_paths):\n",
    "        model.load_state_dict(torch.load(path, map_location=device))\n",
    "        logits = predict(model, inputs, device)\n",
    "\n",
    "    logits = logits.detach().cpu().numpy()\n",
    "    if logits.shape[-1] == 1:\n",
    "        logits = logits.reshape(-1)\n",
    "    return logits\n"
   ]
  },
  {
   "cell_type": "markdown",
   "metadata": {},
   "source": [
    "## Solar"
   ]
  },
  {
   "cell_type": "code",
   "execution_count": 90,
   "metadata": {},
   "outputs": [
    {
     "data": {
      "text/plain": [
       "(88, 2)"
      ]
     },
     "execution_count": 90,
     "metadata": {},
     "output_type": "execute_result"
    }
   ],
   "source": [
    "train_data = np.load(\"/mnt/e/data/solar/train.npy\")\n",
    "val_data = np.load(\"/mnt/e/data/solar/val.npy\")\n",
    "test_data = np.load(\"/mnt/e/data/solar/test.npy\")\n",
    "val_data.shape"
   ]
  },
  {
   "cell_type": "code",
   "execution_count": 91,
   "metadata": {},
   "outputs": [
    {
     "name": "stdout",
     "output_type": "stream",
     "text": [
      "QuantileMLP(\n",
      "  (layers): Sequential(\n",
      "    (0): Linear(in_features=1, out_features=40, bias=True)\n",
      "    (1): ReLU(inplace=True)\n",
      "    (2): Dropout(p=0.01, inplace=False)\n",
      "    (3): Linear(in_features=40, out_features=40, bias=True)\n",
      "    (4): ReLU(inplace=True)\n",
      "    (5): Dropout(p=0.01, inplace=False)\n",
      "    (6): Linear(in_features=40, out_features=40, bias=True)\n",
      "    (7): ReLU(inplace=True)\n",
      "    (8): Dropout(p=0.01, inplace=False)\n",
      "    (9): Linear(in_features=40, out_features=40, bias=True)\n",
      "    (10): ReLU(inplace=True)\n",
      "    (11): Dropout(p=0.01, inplace=False)\n",
      "    (12): Linear(in_features=40, out_features=3, bias=True)\n",
      "  )\n",
      ")\n",
      "Loading model from /mnt/e/models/iso_models/quantile/quantile_solar_864_*.pt\n"
     ]
    },
    {
     "data": {
      "text/plain": [
       "((4600,), (4600,), (4600,), (4600,))"
      ]
     },
     "execution_count": 91,
     "metadata": {},
     "output_type": "execute_result"
    }
   ],
   "source": [
    "model = QuantileMLP(input_dim=1, output_dim=1, num_units=40, drop_prob=0.01)\n",
    "print(model)\n",
    "\n",
    "solar_model_paths = os.path.join(model_dir, \"quantile\", f\"quantile_solar_864_*.pt\")\n",
    "line_X = torch.arange(-230, 230, 0.1, dtype=torch.float, device=device).view(-1, 1)\n",
    "line_quantiles = quantile_predict(solar_model_paths, model, line_X, device)\n",
    "line_y = line_quantiles[:, 1]\n",
    "line_lower = line_quantiles[:, 0]\n",
    "line_upper = line_quantiles[:, 2]\n",
    "\n",
    "line_X = line_X.detach().cpu().numpy().reshape(-1)\n",
    "line_X.shape, line_y.shape, line_lower.shape, line_upper.shape"
   ]
  },
  {
   "cell_type": "code",
   "execution_count": 92,
   "metadata": {},
   "outputs": [],
   "source": [
    "plot_train = np.concatenate((train_data, val_data))\n",
    "# plot_solar_regression(\"single/quantile-solar-uncali\", \"quantile\", plot_train, test_data, line_X, line_y, line_lower, line_upper)"
   ]
  },
  {
   "cell_type": "code",
   "execution_count": 93,
   "metadata": {},
   "outputs": [
    {
     "name": "stdout",
     "output_type": "stream",
     "text": [
      "Loading model from /mnt/e/models/iso_models/quantile/quantile_solar_864_*.pt\n",
      "Loading model from /mnt/e/models/iso_models/quantile/quantile_solar_864_*.pt\n",
      "Loading model from /mnt/e/models/iso_models/quantile/quantile_solar_864_*.pt\n",
      "Uncali. coverage on val set: 0.9431818181818182\n",
      "Uncali. coverage on test set: 0.85\n",
      "qhat: -0.04300551861524584\n",
      "Conformal coverage on val set: 0.9204545454545454\n",
      "Conformal coverage on test set: 0.75\n"
     ]
    }
   ],
   "source": [
    "train_X = torch.from_numpy(train_data[:, 0]).float().view(-1, 1)\n",
    "train_Y = train_data[:, 1]\n",
    "train_quantiles = quantile_predict(solar_model_paths, model, train_X, device)\n",
    "\n",
    "val_X = torch.from_numpy(val_data[:, 0]).float().view(-1, 1)\n",
    "val_Y = val_data[:, 1]\n",
    "val_quantiles = quantile_predict(solar_model_paths, model, val_X, device)\n",
    "\n",
    "test_X = torch.from_numpy(test_data[:, 0]).float().view(-1, 1)\n",
    "test_Y = test_data[:, 1]\n",
    "test_quantiles = quantile_predict(solar_model_paths, model, test_X, device)\n",
    "\n",
    "coverage = correct_coverage(val_Y, val_quantiles[:, 0], val_quantiles[:, 2])\n",
    "print(f\"Uncali. coverage on val set: {coverage}\")\n",
    "coverage = correct_coverage(test_Y, test_quantiles[:, 0], test_quantiles[:, 2])\n",
    "print(f\"Uncali. coverage on test set: {coverage}\")\n",
    "\n",
    "scores = quantile_score_function(val_quantiles[:, 0], val_quantiles[:, 2], val_Y)\n",
    "qhat = get_qhat(scores, 0.9)\n",
    "print(f\"qhat: {qhat}\")\n",
    "\n",
    "coverage = correct_coverage(val_Y, val_quantiles[:, 0]-qhat, val_quantiles[:, 2]+qhat)\n",
    "print(f\"Conformal coverage on val set: {coverage}\")\n",
    "coverage = correct_coverage(test_Y, test_quantiles[:, 0]-qhat, test_quantiles[:, 2]+qhat)\n",
    "print(f\"Conformal coverage on test set: {coverage}\")"
   ]
  },
  {
   "cell_type": "code",
   "execution_count": 94,
   "metadata": {},
   "outputs": [
    {
     "data": {
      "text/plain": [
       "0.3201675653457642"
      ]
     },
     "execution_count": 94,
     "metadata": {},
     "output_type": "execute_result"
    }
   ],
   "source": [
    "rmse(test_quantiles[:, 1], test_Y)"
   ]
  },
  {
   "cell_type": "code",
   "execution_count": 95,
   "metadata": {},
   "outputs": [
    {
     "data": {
      "text/plain": [
       "0.75"
      ]
     },
     "execution_count": 95,
     "metadata": {},
     "output_type": "execute_result"
    }
   ],
   "source": [
    "scores = quantile_score_function(test_quantiles[:, 0], test_quantiles[:, 2], test_Y)\n",
    "coverage = correct_coverage1(scores, qhat)\n",
    "coverage # expected coverage: 0.9"
   ]
  },
  {
   "cell_type": "code",
   "execution_count": 96,
   "metadata": {},
   "outputs": [
    {
     "data": {
      "image/png": "[encoded data removed]",
      "text/plain": [
       "<Figure size 432x288 with 1 Axes>"
      ]
     },
     "metadata": {},
     "output_type": "display_data"
    }
   ],
   "source": [
    "plot_solar_regression(\"single/quantile-solar-conformal\", \"quantile\", plot_train, test_data, line_X, line_y, (line_lower, line_upper), (line_lower-qhat, line_upper+qhat))"
   ]
  },
  {
   "cell_type": "markdown",
   "metadata": {},
   "source": [
    "## UCI"
   ]
  },
  {
   "cell_type": "code",
   "execution_count": 315,
   "metadata": {},
   "outputs": [],
   "source": [
    "def UCI_calibration_quantile(dataset, val_data, test_data, device):\n",
    "    val_X = torch.from_numpy(val_data[:, :-1]).float()\n",
    "    val_y = val_data[:, -1]\n",
    "    test_X = torch.from_numpy(test_data[:, :-1]).float()\n",
    "    test_y = test_data[:, -1]\n",
    "\n",
    "    model_paths = os.path.join(model_dir, \"quantile\", f\"quantile_{dataset}_864_*.pt\")\n",
    "    model = QuantileMLP(input_dim=test_X.shape[1], output_dim=1, num_units=200, drop_prob=0.01)\n",
    "    # print(model)\n",
    "\n",
    "    # print(\"### Before calibration ###\")\n",
    "    test_quantiles =quantile_predict(model_paths, model, test_X, device)\n",
    "    uncali_coverage = correct_coverage(test_y, test_quantiles[:, 0], test_quantiles[:, 2])\n",
    "    # print(f\"Coverage: {coverage}\")\n",
    "    loss = rmse(test_quantiles[:, 1], test_y)\n",
    "    # print(f\"RMSE: {loss}\")\n",
    "    # print()\n",
    "\n",
    "    # print(\"### Conformal calibrating ###\")\n",
    "    val_quantiles = quantile_predict(model_paths, model, val_X, device)\n",
    "    scores = quantile_score_function(val_quantiles[:, 0], val_quantiles[:, 2], val_y)\n",
    "    qhat = get_qhat(scores, 0.9)\n",
    "    # print(f\"qhat: {qhat}\")\n",
    "    coverage = correct_coverage(test_y, test_quantiles[:, 0]-qhat, test_quantiles[:, 2]+qhat)\n",
    "    # print(f\"Coverage: {coverage}\")\n",
    "    # scores = quantile_score_function(test_quantiles[:, 0], test_quantiles[:, 2], test_y)\n",
    "    # coverage = correct_coverage1(scores, qhat)\n",
    "    # print(f\"Coverage: {coverage}\")\n",
    "    \n",
    "    return uncali_coverage, coverage\n",
    "    \n",
    "def all_calibration_errors():\n",
    "    for dataset in UCI:\n",
    "        val_data = np.load(f\"/mnt/e/data/{dataset}/val.npy\")\n",
    "        test_data = np.load(f\"/mnt/e/data/{dataset}/test.npy\")\n",
    "        uncali, conformal = UCI_calibration_quantile(dataset, val_data, test_data, device)\n",
    "        print(f\"{dataset}: {uncali:.4f}, {conformal:.4f}\")\n",
    "        print()\n"
   ]
  },
  {
   "cell_type": "code",
   "execution_count": 316,
   "metadata": {},
   "outputs": [
    {
     "name": "stdout",
     "output_type": "stream",
     "text": [
      "Loading model from /mnt/e/models/iso_models/quantile/quantile_house_864_*.pt\n",
      "Loading model from /mnt/e/models/iso_models/quantile/quantile_house_864_*.pt\n",
      "house: 0.7697, 0.8421\n",
      "\n",
      "Loading model from /mnt/e/models/iso_models/quantile/quantile_concrete_864_*.pt\n",
      "Loading model from /mnt/e/models/iso_models/quantile/quantile_concrete_864_*.pt\n",
      "concrete: 0.7767, 0.7961\n",
      "\n",
      "Loading model from /mnt/e/models/iso_models/quantile/quantile_energy_864_*.pt\n",
      "Loading model from /mnt/e/models/iso_models/quantile/quantile_energy_864_*.pt\n",
      "energy: 0.8571, 0.8485\n",
      "\n",
      "Loading model from /mnt/e/models/iso_models/quantile/quantile_power_864_*.pt\n",
      "Loading model from /mnt/e/models/iso_models/quantile/quantile_power_864_*.pt\n",
      "power: 0.9077, 0.9080\n",
      "\n",
      "Loading model from /mnt/e/models/iso_models/quantile/quantile_red_wine_864_*.pt\n",
      "Loading model from /mnt/e/models/iso_models/quantile/quantile_red_wine_864_*.pt\n",
      "red_wine: 0.8375, 0.8854\n",
      "\n",
      "Loading model from /mnt/e/models/iso_models/quantile/quantile_yacht_864_*.pt\n",
      "Loading model from /mnt/e/models/iso_models/quantile/quantile_yacht_864_*.pt\n",
      "yacht: 0.9457, 0.9457\n",
      "\n"
     ]
    }
   ],
   "source": [
    "all_calibration_errors()"
   ]
  },
  {
   "cell_type": "markdown",
   "metadata": {},
   "source": [
    "# Ensembled Regression"
   ]
  },
  {
   "cell_type": "code",
   "execution_count": 102,
   "metadata": {},
   "outputs": [],
   "source": [
    "def ensemble_mlp_predict(model_paths, model, inputs, device):\n",
    "    mus, sigmas = [], []\n",
    "    print(f\"Loading model from {model_paths}\")\n",
    "    for path in glob.iglob(model_paths):\n",
    "        model.load_state_dict(torch.load(path, map_location=device))\n",
    "        \n",
    "        mu, log_sigma2 = predict(model, inputs, device)\n",
    "        sigma = torch.sqrt(torch.exp(log_sigma2))\n",
    "        mus.append(mu.unsqueeze(0))\n",
    "        sigmas.append(sigma.unsqueeze(0))\n",
    "        \n",
    "    mus = torch.cat(mus, dim=0) # no_model, no_inputs, no_outputs\n",
    "    sigmas = torch.cat(sigmas, dim=0)\n",
    "    \n",
    "    mus = mus.mean(dim=0)\n",
    "    sigmas = sigmas.mean(dim=0)\n",
    "    \n",
    "    mus = mus.detach().cpu().numpy()\n",
    "    sigmas = sigmas.detach().cpu().numpy()\n",
    "    if mus.shape[-1] == 1:\n",
    "        mus = mus.reshape(-1)\n",
    "    if sigmas.shape[-1] == 1:\n",
    "        sigmas = sigmas.reshape(-1)\n",
    "    return mus, sigmas\n"
   ]
  },
  {
   "cell_type": "markdown",
   "metadata": {},
   "source": [
    "## Solar"
   ]
  },
  {
   "cell_type": "code",
   "execution_count": 103,
   "metadata": {},
   "outputs": [
    {
     "data": {
      "text/plain": [
       "((203, 2), (88, 2), (100, 2))"
      ]
     },
     "execution_count": 103,
     "metadata": {},
     "output_type": "execute_result"
    }
   ],
   "source": [
    "train_data = np.load(\"/mnt/e/data/solar/train.npy\")\n",
    "val_data = np.load(\"/mnt/e/data/solar/val.npy\")\n",
    "test_data = np.load(\"/mnt/e/data/solar/test.npy\")\n",
    "\n",
    "train_data.shape, val_data.shape, test_data.shape"
   ]
  },
  {
   "cell_type": "code",
   "execution_count": 104,
   "metadata": {},
   "outputs": [
    {
     "name": "stdout",
     "output_type": "stream",
     "text": [
      "MLP(\n",
      "  (layers): Sequential(\n",
      "    (0): Linear(in_features=1, out_features=40, bias=True)\n",
      "    (1): ReLU(inplace=True)\n",
      "    (2): Dropout(p=0.01, inplace=False)\n",
      "    (3): Linear(in_features=40, out_features=40, bias=True)\n",
      "    (4): ReLU(inplace=True)\n",
      "    (5): Dropout(p=0.01, inplace=False)\n",
      "    (6): Linear(in_features=40, out_features=40, bias=True)\n",
      "    (7): ReLU(inplace=True)\n",
      "    (8): Dropout(p=0.01, inplace=False)\n",
      "  )\n",
      "  (mu): Sequential(\n",
      "    (0): Linear(in_features=40, out_features=40, bias=True)\n",
      "    (1): ReLU(inplace=True)\n",
      "    (2): Dropout(p=0.01, inplace=False)\n",
      "    (3): Linear(in_features=40, out_features=1, bias=True)\n",
      "  )\n",
      "  (log_sigma2): Sequential(\n",
      "    (0): Linear(in_features=40, out_features=40, bias=True)\n",
      "    (1): ReLU(inplace=True)\n",
      "    (2): Dropout(p=0.01, inplace=False)\n",
      "    (3): Linear(in_features=40, out_features=1, bias=True)\n",
      "  )\n",
      ")\n",
      "Loading model from /mnt/e/models/iso_models/mlp/mlp_solar_*.pt\n"
     ]
    },
    {
     "data": {
      "text/plain": [
       "((4600,), (4600,), (4600,))"
      ]
     },
     "execution_count": 104,
     "metadata": {},
     "output_type": "execute_result"
    }
   ],
   "source": [
    "input_dim = 1\n",
    "output_dim = 1\n",
    "num_units = 40\n",
    "drop_prob = 0.01\n",
    "\n",
    "mlp = MLP(input_dim=input_dim, output_dim=output_dim, num_units=num_units, drop_prob=drop_prob)\n",
    "print(mlp)\n",
    "\n",
    "solar_model_paths = os.path.join(model_dir, \"mlp\", f\"mlp_solar_*.pt\")\n",
    "line_X = torch.arange(-230, 230, 0.1, dtype=torch.float, device=device).view(-1, 1)\n",
    "line_mus, line_sigmas = ensemble_mlp_predict(solar_model_paths, mlp, line_X, device)\n",
    "\n",
    "line_X = line_X.detach().cpu().numpy().reshape(-1)\n",
    "line_X.shape, line_mus.shape, line_sigmas.shape"
   ]
  },
  {
   "cell_type": "code",
   "execution_count": 105,
   "metadata": {},
   "outputs": [],
   "source": [
    "line_upper = line_mus + line_sigmas\n",
    "line_lower = line_mus - line_sigmas\n",
    "plot_train = np.concatenate((train_data, val_data))\n",
    "\n",
    "# plot_solar_regression(\"ensemble/mlp-solar-uncali\", \"mlp\", plot_train, test_data, line_X, line_mus, line_lower, line_upper)"
   ]
  },
  {
   "cell_type": "code",
   "execution_count": 106,
   "metadata": {},
   "outputs": [
    {
     "name": "stdout",
     "output_type": "stream",
     "text": [
      "Loading model from /mnt/e/models/iso_models/mlp/mlp_solar_*.pt\n",
      "Loading model from /mnt/e/models/iso_models/mlp/mlp_solar_*.pt\n",
      "Uncali. coverage on val set: 0.6818181818181818\n",
      "Uncali. coverage on test set: 0.56\n",
      "qhat: 1.0280274748802185\n",
      "Conformal coverage on val set: 0.6931818181818182\n",
      "Conformal coverage on test set: 0.56\n"
     ]
    }
   ],
   "source": [
    "val_X = torch.from_numpy(val_data[:, 0]).float().view(-1, 1)\n",
    "val_Y = val_data[:, 1]\n",
    "val_mus, val_sigmas = ensemble_mlp_predict(solar_model_paths, mlp, val_X, device)\n",
    "\n",
    "test_X = torch.from_numpy(test_data[:, 0]).float().view(-1, 1)\n",
    "test_Y = test_data[:, 1]\n",
    "test_mus, test_sigmas = ensemble_mlp_predict(solar_model_paths, mlp, test_X, device)\n",
    "\n",
    "coverage = correct_coverage(val_Y, val_mus-val_sigmas, val_mus+val_sigmas)\n",
    "print(f\"Uncali. coverage on val set: {coverage}\")\n",
    "coverage = correct_coverage(test_Y, test_mus-test_sigmas, test_mus+test_sigmas)\n",
    "print(f\"Uncali. coverage on test set: {coverage}\")\n",
    "\n",
    "scores = mlp_score_function(val_mus, val_sigmas, val_Y)\n",
    "qhat = get_qhat(scores, 0.68)\n",
    "print(f\"qhat: {qhat}\")\n",
    "\n",
    "coverage = correct_coverage(val_Y, val_mus-val_sigmas*qhat, val_mus+val_sigmas*qhat)\n",
    "print(f\"Conformal coverage on val set: {coverage}\")\n",
    "coverage = correct_coverage(test_Y, test_mus-test_sigmas*qhat, test_mus+test_sigmas*qhat)\n",
    "print(f\"Conformal coverage on test set: {coverage}\")"
   ]
  },
  {
   "cell_type": "code",
   "execution_count": 107,
   "metadata": {},
   "outputs": [
    {
     "data": {
      "text/plain": [
       "0.3386172533035278"
      ]
     },
     "execution_count": 107,
     "metadata": {},
     "output_type": "execute_result"
    }
   ],
   "source": [
    "rmse(test_mus, test_Y)"
   ]
  },
  {
   "cell_type": "code",
   "execution_count": 108,
   "metadata": {},
   "outputs": [
    {
     "data": {
      "text/plain": [
       "0.56"
      ]
     },
     "execution_count": 108,
     "metadata": {},
     "output_type": "execute_result"
    }
   ],
   "source": [
    "scores = mlp_score_function(test_mus, test_sigmas, test_Y)\n",
    "coverage = correct_coverage1(scores, qhat)\n",
    "coverage # expected coverage: 0.68"
   ]
  },
  {
   "cell_type": "code",
   "execution_count": 109,
   "metadata": {},
   "outputs": [
    {
     "data": {
      "image/png": "[encoded data removed]",
      "text/plain": [
       "<Figure size 432x288 with 1 Axes>"
      ]
     },
     "metadata": {},
     "output_type": "display_data"
    }
   ],
   "source": [
    "plot_solar_regression(\"ensemble/mlp-solar-conformal\", \"mlp\", plot_train, test_data, line_X, line_mus, (line_lower, line_upper), (line_mus-line_sigmas*qhat, line_mus+line_sigmas*qhat))"
   ]
  },
  {
   "cell_type": "markdown",
   "metadata": {},
   "source": [
    "## UCI"
   ]
  },
  {
   "cell_type": "code",
   "execution_count": 110,
   "metadata": {},
   "outputs": [],
   "source": [
    "def UCI_calibration_error(dataset, val_data, test_data, device):\n",
    "    val_X = torch.from_numpy(val_data[:, :-1]).float()\n",
    "    val_y = val_data[:, -1]\n",
    "    test_X = torch.from_numpy(test_data[:, :-1]).float()\n",
    "    test_y = test_data[:, -1]\n",
    "\n",
    "    mlp_paths = os.path.join(model_dir, \"mlp\", f\"mlp_{dataset}_*.pt\")\n",
    "    mlp = MLP(input_dim=test_X.shape[1], output_dim=1, num_units=200, drop_prob=0.01)\n",
    "    # print(mlp)\n",
    "\n",
    "    # print(\"### Before calibration ###\")\n",
    "    test_mus, test_sigmas = ensemble_mlp_predict(mlp_paths, mlp, test_X, device)\n",
    "    uncali_coverage = correct_coverage(test_y, test_mus-test_sigmas, test_mus+test_sigmas)\n",
    "    # print(f\"Coverage: {coverage}\")\n",
    "    # loss = rmse(test_mus, test_y)\n",
    "    # print(f\"RMSE: {loss}\")\n",
    "    # print()\n",
    "    \n",
    "    # print(\"### Conformal calibrating ###\")\n",
    "    val_mus, val_sigmas = ensemble_mlp_predict(mlp_paths, mlp, val_X, device)\n",
    "    scores = mlp_score_function(val_mus, val_sigmas, val_y)\n",
    "    qhat = get_qhat(scores, 0.68)\n",
    "    # print(f\"qhat: {qhat}\")\n",
    "    coverage = correct_coverage(test_y, test_mus-test_sigmas*qhat, test_mus+test_sigmas*qhat)\n",
    "    # print(f\"Coverage: {coverage}\")\n",
    "    \n",
    "    return uncali_coverage, coverage\n",
    "    \n",
    "def all_calibration_errors():\n",
    "    for dataset in UCI:\n",
    "        val_data = np.load(f\"/mnt/e/data/{dataset}/val.npy\")\n",
    "        test_data = np.load(f\"/mnt/e/data/{dataset}/test.npy\")\n",
    "        uncali, conformal = UCI_calibration_error(dataset, val_data, test_data, device)\n",
    "        print(f\"{dataset}: {uncali:.4f}, {conformal:.4f}\")\n",
    "        print()"
   ]
  },
  {
   "cell_type": "code",
   "execution_count": 111,
   "metadata": {},
   "outputs": [
    {
     "name": "stdout",
     "output_type": "stream",
     "text": [
      "Loading model from /mnt/e/models/iso_models/mlp/mlp_house_*.pt\n",
      "Loading model from /mnt/e/models/iso_models/mlp/mlp_house_*.pt\n",
      "house: 0.7105, 0.6842\n",
      "\n",
      "Loading model from /mnt/e/models/iso_models/mlp/mlp_concrete_*.pt\n",
      "Loading model from /mnt/e/models/iso_models/mlp/mlp_concrete_*.pt\n",
      "concrete: 0.6019, 0.5890\n",
      "\n",
      "Loading model from /mnt/e/models/iso_models/mlp/mlp_energy_*.pt\n",
      "Loading model from /mnt/e/models/iso_models/mlp/mlp_energy_*.pt\n",
      "energy: 0.6667, 0.6104\n",
      "\n",
      "Loading model from /mnt/e/models/iso_models/mlp/mlp_power_*.pt\n",
      "Loading model from /mnt/e/models/iso_models/mlp/mlp_power_*.pt\n",
      "power: 0.7133, 0.7060\n",
      "\n",
      "Loading model from /mnt/e/models/iso_models/mlp/mlp_red_wine_*.pt\n",
      "Loading model from /mnt/e/models/iso_models/mlp/mlp_red_wine_*.pt\n",
      "red_wine: 0.6917, 0.7271\n",
      "\n",
      "Loading model from /mnt/e/models/iso_models/mlp/mlp_yacht_*.pt\n",
      "Loading model from /mnt/e/models/iso_models/mlp/mlp_yacht_*.pt\n",
      "yacht: 0.8152, 0.7826\n",
      "\n"
     ]
    }
   ],
   "source": [
    "all_calibration_errors()"
   ]
  },
  {
   "cell_type": "markdown",
   "metadata": {},
   "source": [
    "# Quantile Regression"
   ]
  },
  {
   "cell_type": "code",
   "execution_count": 112,
   "metadata": {},
   "outputs": [],
   "source": [
    "def ensemble_quantile_predict(model_paths, model, inputs, device):\n",
    "    logits = []\n",
    "    print(f\"Loading model from {model_paths}\")\n",
    "    for path in glob.iglob(model_paths):\n",
    "        model.load_state_dict(torch.load(path, map_location=device))\n",
    "        \n",
    "        o = predict(model, inputs, device)\n",
    "        logits.append(o.unsqueeze(0))\n",
    "\n",
    "    logits = torch.cat(logits, dim=0) # no_model, no_inputs, no_outputs\n",
    "    \n",
    "    logits = logits.mean(dim=0)\n",
    "\n",
    "    logits = logits.detach().cpu().numpy()\n",
    "    if logits.shape[-1] == 1:\n",
    "        logits = logits.reshape(-1)\n",
    "    return logits"
   ]
  },
  {
   "cell_type": "markdown",
   "metadata": {},
   "source": [
    "## Solar"
   ]
  },
  {
   "cell_type": "code",
   "execution_count": 113,
   "metadata": {},
   "outputs": [
    {
     "data": {
      "text/plain": [
       "(88, 2)"
      ]
     },
     "execution_count": 113,
     "metadata": {},
     "output_type": "execute_result"
    }
   ],
   "source": [
    "train_data = np.load(\"/mnt/e/data/solar/train.npy\")\n",
    "val_data = np.load(\"/mnt/e/data/solar/val.npy\")\n",
    "test_data = np.load(\"/mnt/e/data/solar/test.npy\")\n",
    "val_data.shape"
   ]
  },
  {
   "cell_type": "code",
   "execution_count": 114,
   "metadata": {},
   "outputs": [
    {
     "name": "stdout",
     "output_type": "stream",
     "text": [
      "QuantileMLP(\n",
      "  (layers): Sequential(\n",
      "    (0): Linear(in_features=1, out_features=40, bias=True)\n",
      "    (1): ReLU(inplace=True)\n",
      "    (2): Dropout(p=0.01, inplace=False)\n",
      "    (3): Linear(in_features=40, out_features=40, bias=True)\n",
      "    (4): ReLU(inplace=True)\n",
      "    (5): Dropout(p=0.01, inplace=False)\n",
      "    (6): Linear(in_features=40, out_features=40, bias=True)\n",
      "    (7): ReLU(inplace=True)\n",
      "    (8): Dropout(p=0.01, inplace=False)\n",
      "    (9): Linear(in_features=40, out_features=40, bias=True)\n",
      "    (10): ReLU(inplace=True)\n",
      "    (11): Dropout(p=0.01, inplace=False)\n",
      "    (12): Linear(in_features=40, out_features=3, bias=True)\n",
      "  )\n",
      ")\n",
      "Loading model from /mnt/e/models/iso_models/quantile/quantile_solar_*.pt\n"
     ]
    },
    {
     "data": {
      "text/plain": [
       "((4600,), (4600,), (4600,), (4600,))"
      ]
     },
     "execution_count": 114,
     "metadata": {},
     "output_type": "execute_result"
    }
   ],
   "source": [
    "model = QuantileMLP(input_dim=1, output_dim=1, num_units=40, drop_prob=0.01)\n",
    "print(model)\n",
    "\n",
    "solar_model_paths = os.path.join(model_dir, \"quantile\", f\"quantile_solar_*.pt\")\n",
    "line_X = torch.arange(-230, 230, 0.1, dtype=torch.float, device=device).view(-1, 1)\n",
    "line_quantiles = ensemble_quantile_predict(solar_model_paths, model, line_X, device)\n",
    "line_y = line_quantiles[:, 1]\n",
    "line_lower = line_quantiles[:, 0]\n",
    "line_upper = line_quantiles[:, 2]\n",
    "\n",
    "line_X = line_X.detach().cpu().numpy().reshape(-1)\n",
    "line_X.shape, line_y.shape, line_lower.shape, line_upper.shape"
   ]
  },
  {
   "cell_type": "code",
   "execution_count": 115,
   "metadata": {},
   "outputs": [],
   "source": [
    "plot_train = np.concatenate((train_data, val_data))\n",
    "# plot_solar_regression(\"ensemble/quantile-solar-uncali\", \"quantile\", plot_train, test_data, line_X, line_y, line_lower, line_upper)"
   ]
  },
  {
   "cell_type": "code",
   "execution_count": 116,
   "metadata": {},
   "outputs": [
    {
     "name": "stdout",
     "output_type": "stream",
     "text": [
      "Loading model from /mnt/e/models/iso_models/quantile/quantile_solar_*.pt\n",
      "Loading model from /mnt/e/models/iso_models/quantile/quantile_solar_*.pt\n",
      "Loading model from /mnt/e/models/iso_models/quantile/quantile_solar_*.pt\n",
      "Uncali. coverage on val set: 0.9545454545454546\n",
      "Uncali. coverage on test set: 0.87\n",
      "qhat: -0.05194368890740659\n",
      "Conformal coverage on val set: 0.9204545454545454\n",
      "Conformal coverage on test set: 0.83\n"
     ]
    }
   ],
   "source": [
    "train_X = torch.from_numpy(train_data[:, 0]).float().view(-1, 1)\n",
    "train_Y = train_data[:, 1]\n",
    "train_quantiles = ensemble_quantile_predict(solar_model_paths, model, train_X, device)\n",
    "\n",
    "val_X = torch.from_numpy(val_data[:, 0]).float().view(-1, 1)\n",
    "val_Y = val_data[:, 1]\n",
    "val_quantiles = ensemble_quantile_predict(solar_model_paths, model, val_X, device)\n",
    "\n",
    "test_X = torch.from_numpy(test_data[:, 0]).float().view(-1, 1)\n",
    "test_Y = test_data[:, 1]\n",
    "test_quantiles = ensemble_quantile_predict(solar_model_paths, model, test_X, device)\n",
    "\n",
    "coverage = correct_coverage(val_Y, val_quantiles[:, 0], val_quantiles[:, 2])\n",
    "print(f\"Uncali. coverage on val set: {coverage}\")\n",
    "coverage = correct_coverage(test_Y, test_quantiles[:, 0], test_quantiles[:, 2])\n",
    "print(f\"Uncali. coverage on test set: {coverage}\")\n",
    "\n",
    "scores = quantile_score_function(val_quantiles[:, 0], val_quantiles[:, 2], val_Y)\n",
    "qhat = get_qhat(scores, 0.9)\n",
    "print(f\"qhat: {qhat}\")\n",
    "\n",
    "coverage = correct_coverage(val_Y, val_quantiles[:, 0]-qhat, val_quantiles[:, 2]+qhat)\n",
    "print(f\"Conformal coverage on val set: {coverage}\")\n",
    "coverage = correct_coverage(test_Y, test_quantiles[:, 0]-qhat, test_quantiles[:, 2]+qhat)\n",
    "print(f\"Conformal coverage on test set: {coverage}\")"
   ]
  },
  {
   "cell_type": "code",
   "execution_count": 117,
   "metadata": {},
   "outputs": [
    {
     "data": {
      "text/plain": [
       "0.29558889865875243"
      ]
     },
     "execution_count": 117,
     "metadata": {},
     "output_type": "execute_result"
    }
   ],
   "source": [
    "rmse(test_quantiles[:, 1], test_Y)"
   ]
  },
  {
   "cell_type": "code",
   "execution_count": 118,
   "metadata": {},
   "outputs": [
    {
     "data": {
      "text/plain": [
       "0.83"
      ]
     },
     "execution_count": 118,
     "metadata": {},
     "output_type": "execute_result"
    }
   ],
   "source": [
    "scores = quantile_score_function(test_quantiles[:, 0], test_quantiles[:, 2], test_Y)\n",
    "coverage = correct_coverage1(scores, qhat)\n",
    "coverage # expected coverage: 0.9"
   ]
  },
  {
   "cell_type": "code",
   "execution_count": 119,
   "metadata": {},
   "outputs": [
    {
     "data": {
      "image/png": "[encoded data removed]",
      "text/plain": [
       "<Figure size 432x288 with 1 Axes>"
      ]
     },
     "metadata": {},
     "output_type": "display_data"
    }
   ],
   "source": [
    "plot_solar_regression(\"ensemble/quantile-solar-conformal\", \"quantile\", plot_train, test_data, line_X, line_y, (line_lower, line_upper), (line_lower-qhat, line_upper+qhat))"
   ]
  },
  {
   "cell_type": "markdown",
   "metadata": {},
   "source": [
    "## UCI"
   ]
  },
  {
   "cell_type": "code",
   "execution_count": 336,
   "metadata": {},
   "outputs": [],
   "source": [
    "def UCI_calibration_quantile(dataset, val_data, test_data, device):\n",
    "    val_X = torch.from_numpy(val_data[:, :-1]).float()\n",
    "    val_y = val_data[:, -1]\n",
    "    test_X = torch.from_numpy(test_data[:, :-1]).float()\n",
    "    test_y = test_data[:, -1]\n",
    "\n",
    "    model_paths = os.path.join(model_dir, \"quantile\", f\"quantile_{dataset}_*.pt\")\n",
    "    model = QuantileMLP(input_dim=test_X.shape[1], output_dim=1, num_units=200, drop_prob=0.01)\n",
    "    # print(model)\n",
    "\n",
    "    # print(\"### Before calibration ###\")\n",
    "    test_quantiles = ensemble_quantile_predict(model_paths, model, test_X, device)\n",
    "    uncali_coverage = correct_coverage(test_y, test_quantiles[:, 0], test_quantiles[:, 2])\n",
    "    # print(f\"Coverage: {coverage}\")\n",
    "    # loss = rmse(test_quantiles[:, 1], test_y)\n",
    "    # print(f\"RMSE: {loss}\")\n",
    "    # print()\n",
    "\n",
    "    # print(\"### Conformal calibrating ###\")\n",
    "    val_quantiles = ensemble_quantile_predict(model_paths, model, val_X, device)\n",
    "    scores = quantile_score_function(val_quantiles[:, 0], val_quantiles[:, 2], val_y)\n",
    "    qhat = get_qhat(scores, 0.9)\n",
    "    # print(f\"qhat: {qhat}\")\n",
    "    coverage = correct_coverage(test_y, test_quantiles[:, 0]-qhat, test_quantiles[:, 2]+qhat)\n",
    "    # print(f\"Coverage: {coverage}\")\n",
    "    # scores = quantile_score_function(test_quantiles[:, 0], test_quantiles[:, 2], test_y)\n",
    "    # coverage = correct_coverage1(scores, qhat)\n",
    "    # print(f\"Coverage: {coverage}\")\n",
    "    \n",
    "    return uncali_coverage, coverage\n",
    "    \n",
    "def all_calibration_errors():\n",
    "    for dataset in UCI:\n",
    "        val_data = np.load(f\"/mnt/e/data/{dataset}/val.npy\")\n",
    "        test_data = np.load(f\"/mnt/e/data/{dataset}/test.npy\")\n",
    "        uncali, conformal = UCI_calibration_quantile(dataset, val_data, test_data, device)\n",
    "        print(f\"{dataset}: {uncali:.4f}, {conformal:.4f}\")\n",
    "        print()\n"
   ]
  },
  {
   "cell_type": "code",
   "execution_count": 337,
   "metadata": {},
   "outputs": [
    {
     "name": "stdout",
     "output_type": "stream",
     "text": [
      "Loading model from /mnt/e/models/iso_models/quantile/quantile_house_*.pt\n",
      "Loading model from /mnt/e/models/iso_models/quantile/quantile_house_*.pt\n",
      "house: 0.8092, 0.8618\n",
      "\n",
      "Loading model from /mnt/e/models/iso_models/quantile/quantile_concrete_*.pt\n",
      "Loading model from /mnt/e/models/iso_models/quantile/quantile_concrete_*.pt\n",
      "concrete: 0.7896, 0.7994\n",
      "\n",
      "Loading model from /mnt/e/models/iso_models/quantile/quantile_energy_*.pt\n",
      "Loading model from /mnt/e/models/iso_models/quantile/quantile_energy_*.pt\n",
      "energy: 0.8615, 0.8485\n",
      "\n",
      "Loading model from /mnt/e/models/iso_models/quantile/quantile_power_*.pt\n",
      "Loading model from /mnt/e/models/iso_models/quantile/quantile_power_*.pt\n",
      "power: 0.9035, 0.9053\n",
      "\n",
      "Loading model from /mnt/e/models/iso_models/quantile/quantile_red_wine_*.pt\n",
      "Loading model from /mnt/e/models/iso_models/quantile/quantile_red_wine_*.pt\n",
      "red_wine: 0.8625, 0.9000\n",
      "\n",
      "Loading model from /mnt/e/models/iso_models/quantile/quantile_yacht_*.pt\n",
      "Loading model from /mnt/e/models/iso_models/quantile/quantile_yacht_*.pt\n",
      "yacht: 0.9457, 0.9565\n",
      "\n"
     ]
    }
   ],
   "source": [
    "all_calibration_errors()"
   ]
  },
  {
   "cell_type": "code",
   "execution_count": null,
   "metadata": {},
   "outputs": [],
   "source": []
  }
 ],
 "metadata": {
  "interpreter": {
   "hash": "9dabdbfe6f69bc45af924f2d7401de0bd3e1a29d65b769eaf766e14272aeeac8"
  },
  "kernelspec": {
   "display_name": "Python 3.8.0 ('iso')",
   "language": "python",
   "name": "python3"
  },
  "language_info": {
   "codemirror_mode": {
    "name": "ipython",
    "version": 3
   },
   "file_extension": ".py",
   "mimetype": "text/x-python",
   "name": "python",
   "nbconvert_exporter": "python",
   "pygments_lexer": "ipython3",
   "version": "3.8.0"
  },
  "orig_nbformat": 4
 },
 "nbformat": 4,
 "nbformat_minor": 2
}
